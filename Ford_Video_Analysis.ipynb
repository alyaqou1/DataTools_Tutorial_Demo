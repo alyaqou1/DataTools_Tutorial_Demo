{
  "nbformat": 4,
  "nbformat_minor": 0,
  "metadata": {
    "colab": {
      "name": "Untitled2.ipynb",
      "provenance": [],
      "collapsed_sections": []
    },
    "kernelspec": {
      "name": "python3",
      "display_name": "Python 3"
    },
    "language_info": {
      "name": "python"
    }
  },
  "cells": [
    {
      "cell_type": "markdown",
      "source": [
        "# <center> Video Image Data </center>\n",
        "#### CMSE 495 Ford Group\n",
        "This tutorial teaches the user how to input a video file, mp4 and convert each frame of the video into a jpeg image"
      ],
      "metadata": {
        "id": "OqSmFS3lZj9Y"
      }
    },
    {
      "cell_type": "markdown",
      "source": [
        "<b> ADD </b> Instructions for setting up the environment and installing libraries needed to run the notebook. Ideally these instructions will work on Google Colabratory)."
      ],
      "metadata": {
        "id": "GQIJxk_kdjT1"
      }
    },
    {
      "cell_type": "markdown",
      "source": [
        "<b> ADD </b> Instructions for accessing and using the data or tool"
      ],
      "metadata": {
        "id": "PHeC8Nkgdnte"
      }
    },
    {
      "cell_type": "markdown",
      "source": [
        "<b> ADD </b> An overview of what data is are available in the data or tool\n"
      ],
      "metadata": {
        "id": "f0aUW4PLdobE"
      }
    },
    {
      "cell_type": "markdown",
      "source": [
        "<b> ADD </b> An example question and visualization that that the data or tool can answer (this should be unique)"
      ],
      "metadata": {
        "id": "qClPlbKaduK5"
      }
    },
    {
      "cell_type": "code",
      "source": [
        "import cv2\n",
        "import os\n",
        "\n",
        "\n",
        "def video_to_frames(file_path, directory_path, greyscale = False):\n",
        "\n",
        "  '''This function will change a video file to a frames'''\n",
        "    \n",
        "    #opening the video\n",
        "    vidcap = cv2.VideoCapture(file_path) \n",
        "    \n",
        "    dirname = directory_path\n",
        "    os.makedirs(dirname, exist_ok=True)\n",
        "    \n",
        "    #capturing a frame as well as a boolean value representing whether an image was properly opened\n",
        "    success,image = vidcap.read()\n",
        "    \n",
        "    count = 0\n",
        "    \n",
        "    while success:\n",
        "        \n",
        "        #this is specifically for foam_segmented.avi\n",
        "        if greyscale:\n",
        "            image = cv2.cvtColor(image, cv2.COLOR_BGR2GRAY)\n",
        "            \n",
        "        #writing the image to a the directory path that was specified, \n",
        "        #if the path specified does not exist then it will be created\n",
        "        #this finctionality was added so that the images could be stored in a separate folder\n",
        "        cv2.imwrite(os.path.join(dirname, str(count)+\".jpg\"), image)\n",
        "        success,image = vidcap.read()\n",
        "        count += 1\n",
        "        #All the frames will be added in order\n",
        "        cv2.waitKey(1) \n",
        "    \n",
        "    #releasing the threads\n",
        "    vidcap.release()"
      ],
      "metadata": {
        "id": "PCbpVR-HZzmt"
      },
      "execution_count": null,
      "outputs": []
    },
    {
      "cell_type": "markdown",
      "source": [
        "Example call for the function above \n",
        "\n",
        "avi_frames('./ford_data/2D_xy.avi', \"./frames/2D_xy\",False)"
      ],
      "metadata": {
        "id": "x6DuN40gcSGC"
      }
    },
    {
      "cell_type": "markdown",
      "source": [
        "<b> ADD </b> Proper references to any resources used to build the tutorial"
      ],
      "metadata": {
        "id": "GIq-_h4wdxWM"
      }
    }
  ]
}